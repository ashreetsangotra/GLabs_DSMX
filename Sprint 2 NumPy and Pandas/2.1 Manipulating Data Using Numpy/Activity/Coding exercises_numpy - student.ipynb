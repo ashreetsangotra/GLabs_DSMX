{
 "cells": [
  {
   "cell_type": "markdown",
   "metadata": {},
   "source": [
    "## **In this activity, a few coding exercises have been given with some deliberate mistakes which the learner has to identify and correct the same**"
   ]
  },
  {
   "cell_type": "code",
   "execution_count": null,
   "metadata": {},
   "outputs": [],
   "source": [
    "# Exercise 1 : Creating a simple array\n",
    "\n",
    "# Run the code and debug the error\n",
    "\n",
    "import numpy as np\n",
    "\n",
    "numpy.arange(3)"
   ]
  },
  {
   "cell_type": "code",
   "execution_count": null,
   "metadata": {},
   "outputs": [],
   "source": [
    "# Exercise 2 : Create a 3x3x3 array with random values\n",
    "\n",
    "\n",
    "# Run the code and debug the error\n",
    "\n",
    "\n",
    "numpy.random.rand('3','3','3')"
   ]
  },
  {
   "cell_type": "code",
   "execution_count": null,
   "metadata": {},
   "outputs": [],
   "source": [
    "# Exercise 3 : creating a random vector and finding its mean\n",
    "\n",
    "array = np.random.rand(30)\n",
    "\n",
    "numpy.averge(array)"
   ]
  },
  {
   "cell_type": "code",
   "execution_count": null,
   "metadata": {},
   "outputs": [],
   "source": [
    "# Exercise 4 : Find the square roots of a given list of numbers \n",
    "\n",
    "# Run the code and debug the error\n",
    "\n",
    "# Expected answer = [3.0, 9.0, 8.0, 25.0, 35.0]\n",
    "\n",
    "\n",
    "# A list of numbers whose square root to be found is given\n",
    "list_1 = np.array(['9','81','64','625','1225'],dtype = 'int8')\n",
    "\n",
    "# Square root of numbers in list 1 is to be added in list_2\n",
    "list_2 = []\n",
    "\n",
    "# A function to find the square root is given\n",
    "def squareroot(list_1):\n",
    "# Iterating through the list\n",
    "    for number in list_1:\n",
    "# finding the square root and storing it        \n",
    "        answer = numpy.squareroot(number)\n",
    "# Adding the answer to empty list\n",
    "        list_2.append(answer)\n",
    "# finally will return a list with answers\n",
    "    return list_2\n",
    "\n",
    "\n",
    "squareroot(list_1)"
   ]
  }
 ],
 "metadata": {
  "kernelspec": {
   "display_name": "Python 3",
   "language": "python",
   "name": "python3"
  },
  "language_info": {
   "codemirror_mode": {
    "name": "ipython",
    "version": 3
   },
   "file_extension": ".py",
   "mimetype": "text/x-python",
   "name": "python",
   "nbconvert_exporter": "python",
   "pygments_lexer": "ipython3",
   "version": "3.6.5"
  }
 },
 "nbformat": 4,
 "nbformat_minor": 2
}
